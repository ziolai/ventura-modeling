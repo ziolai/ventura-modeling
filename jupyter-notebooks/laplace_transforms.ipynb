{
 "cells": [
  {
   "cell_type": "markdown",
   "id": "1e879350",
   "metadata": {},
   "source": [
    "# Laplace Transforms \n",
    "Notes by Domenico Lahaye. "
   ]
  },
  {
   "cell_type": "code",
   "execution_count": 2,
   "id": "2c613451",
   "metadata": {},
   "outputs": [],
   "source": [
    "# Import modules \n",
    "from sympy.interactive import printing \n",
    "printing.init_printing(use_latex=True)\n",
    "from numpy import * \n",
    "import numpy as np \n",
    "from scipy import optimize\n",
    "from scipy.integrate import solve_ivp\n",
    "from sympy import * \n",
    "import sympy as sp \n",
    "import matplotlib.pyplot as plt \n",
    "import matplotlib.axes as axes "
   ]
  },
  {
   "cell_type": "markdown",
   "id": "0a786b67",
   "metadata": {},
   "source": []
  },
  {
   "cell_type": "code",
   "execution_count": null,
   "id": "f19de876",
   "metadata": {},
   "outputs": [],
   "source": []
  },
  {
   "cell_type": "markdown",
   "id": "3c718adc",
   "metadata": {},
   "source": [
    "## Section 2/: Inverse Laplace Transforms "
   ]
  },
  {
   "cell_type": "code",
   "execution_count": 3,
   "id": "dd0e6c61",
   "metadata": {},
   "outputs": [
    {
     "name": "stdout",
     "output_type": "stream",
     "text": [
      "3*(s + 1)/(s**2 + 2*s + 5)\n",
      "3*exp(-t)*cos(2*t)*Heaviside(t)\n"
     ]
    }
   ],
   "source": [
    "# DIY03 \n",
    "s = Symbol(\"s\")\n",
    "F = apart((3*s+3)/(s**2 + 2*s + 5))\n",
    "print(F)\n",
    "c, t = symbols('c, t')\n",
    "exp = inverse_laplace_transform(F, s, t)\n",
    "print(exp)"
   ]
  },
  {
   "cell_type": "code",
   "execution_count": 4,
   "id": "fdef441c",
   "metadata": {},
   "outputs": [
    {
     "name": "stdout",
     "output_type": "stream",
     "text": [
      "-3/(5*(s + 4)) + 3/(5*(s - 1))\n",
      "3*(exp(5*t) - 1)*exp(-4*t)*Heaviside(t)/5\n"
     ]
    }
   ],
   "source": [
    "# DIY04 \n",
    "s = Symbol(\"s\")\n",
    "F = apart(3/(s**2 + 3*s - 4))\n",
    "print(F)\n",
    "c, t = symbols('c, t')\n",
    "exp = inverse_laplace_transform(F, s, t)\n",
    "print(exp)"
   ]
  },
  {
   "cell_type": "code",
   "execution_count": null,
   "id": "6f2087e3",
   "metadata": {},
   "outputs": [],
   "source": []
  }
 ],
 "metadata": {
  "kernelspec": {
   "display_name": "Python 3",
   "language": "python",
   "name": "python3"
  },
  "language_info": {
   "codemirror_mode": {
    "name": "ipython",
    "version": 3
   },
   "file_extension": ".py",
   "mimetype": "text/x-python",
   "name": "python",
   "nbconvert_exporter": "python",
   "pygments_lexer": "ipython3",
   "version": "3.7.10"
  }
 },
 "nbformat": 4,
 "nbformat_minor": 5
}

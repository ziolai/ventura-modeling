{
 "cells": [
  {
   "cell_type": "markdown",
   "id": "65246340",
   "metadata": {},
   "source": [
    "# Input for CSE student 2024 "
   ]
  },
  {
   "cell_type": "markdown",
   "id": "dec791cd",
   "metadata": {},
   "source": [
    "## Section 1: In General \n",
    "1. Discuss structure of the report; \n",
    "\n",
    "## Section 2: ODE Solver \n",
    "1. benchmark rhs-function only. Avoid allocations in this function. \n",
    "2. based on number of grid points per wavelength, what should time step be the undamped and damped case?\n",
    "3. find literature on time integration for second order problems. Dixit <i>Keeping the second order structure is always a good idea</i> in [this post](https://discourse.julialang.org/t/choice-of-the-integrator-for-mixed-first-second-order-system-of-ode/55330). Motivation is missing. \n",
    "4. a more extensive discussion on how to perform time integration is [this post](https://discourse.julialang.org/t/differentialequations-jl-fem-example/28128/27). Detect linearity. Detect sparsity.  \n",
    "\n",
    "## Section 3: Thin Beam Solver\n",
    "1. assemble matrix as a penta-diagonal matrix; \n",
    "2. solve static and transient problem; \n",
    "3. extend to non-standard boundary conditions; "
   ]
  },
  {
   "cell_type": "code",
   "execution_count": null,
   "id": "7c876184",
   "metadata": {},
   "outputs": [],
   "source": []
  }
 ],
 "metadata": {
  "kernelspec": {
   "display_name": "Julia 1.8.1",
   "language": "julia",
   "name": "julia-1.8"
  },
  "language_info": {
   "file_extension": ".jl",
   "mimetype": "application/julia",
   "name": "julia",
   "version": "1.8.1"
  }
 },
 "nbformat": 4,
 "nbformat_minor": 5
}

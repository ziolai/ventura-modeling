{
 "cells": [
  {
   "cell_type": "markdown",
   "id": "9ecc0098",
   "metadata": {},
   "source": [
    "# Day 2 of ATHENS November 2024 week\n",
    "# Free Vibration of a Beam "
   ]
  },
  {
   "cell_type": "code",
   "execution_count": null,
   "id": "a61cbaba",
   "metadata": {},
   "outputs": [],
   "source": [
    "using LinearAlgebra\n",
    "using DifferentialEquations\n",
    "using Plots "
   ]
  },
  {
   "cell_type": "markdown",
   "id": "c3ef41e8",
   "metadata": {},
   "source": [
    "## Section 1: Introduction  \n",
    "\n",
    "We denote the deflection of the beam at location $x$ (where $0 \\leq x \\leq 1$) and time $t$ (where $0 \\leq t \\leq T$) as $u(x,t)$. We solve the [wave equation](https://en.wikipedia.org/wiki/Wave_equation) without external forcing for $u(x,t)$  \n",
    "\n",
    "$$\n",
    "\\frac{\\partial^2 u}{\\partial t^2} = \\frac{\\partial^2 u}{\\partial x^2}  \\text{ for } \n",
    "0 \\leq x \\leq 1 \\text{ and } 0 \\leq t \\leq T \\, . \n",
    "$$\n",
    "\n",
    "We use as boundary conditions (imposed at the left and right end point of the beam for all time) and initial conditions (imposed for initial position and initial velocity) such that the function \n",
    "\n",
    "$$\n",
    "u(x,t) = \\sin(\\pi*x + c*\\pi*t)\n",
    "$$\n",
    "\n",
    "is an analytical reference solution for our numerical computation (please observe the factor $\\pi$ and the $+$ sign (this travelling wave travelling from left to right)).  \n",
    "\n",
    "The initial position $u_0(x)$ and initial velocity $v_0(x)$ are given by $u_0(x) = \\sin(\\pi*x)$ and $v_0(x) = (c*\\pi)\\cos(\\pi*x)$, respectively. \n",
    "\n",
    "Exercise: \n",
    "1. verify using pen and paper that $u(x,t)$ is indeed a solution; \n",
    "1. find other solutions "
   ]
  },
  {
   "cell_type": "markdown",
   "id": "88090443",
   "metadata": {},
   "source": [
    "## Section 2: Setting of Constants - Plotting the Analytical Reference Solution "
   ]
  },
  {
   "cell_type": "markdown",
   "id": "0162cb46",
   "metadata": {},
   "source": [
    "Set numerical and physical constants "
   ]
  },
  {
   "cell_type": "code",
   "execution_count": null,
   "id": "89bbedb7",
   "metadata": {},
   "outputs": [],
   "source": [
    "# set spacing in x\n",
    "N = 100; h = 1/N; h2 = h*h; \n",
    "# xset spacing in t \n",
    "Tend = 3; M = 100; dt = Tend/M \n",
    "# set velocity \n",
    "c = 2; "
   ]
  },
  {
   "cell_type": "markdown",
   "id": "991b59a6",
   "metadata": {},
   "source": [
    "Set spacing in x and t domain (observe the use of comprehension). "
   ]
  },
  {
   "cell_type": "code",
   "execution_count": null,
   "id": "90fb6644",
   "metadata": {},
   "outputs": [],
   "source": [
    "x = [(i-1)*h for i = 1:N+1]\n",
    "t = [(j-1)*dt for j = 1:M];"
   ]
  },
  {
   "cell_type": "markdown",
   "id": "b82ad948",
   "metadata": {},
   "source": [
    "Plot the analytical solution "
   ]
  },
  {
   "cell_type": "code",
   "execution_count": null,
   "id": "070841a1",
   "metadata": {},
   "outputs": [],
   "source": [
    "uanal = [sin(pi*xi+c*pi*tj) for xi in x, tj in t]\n",
    "vanal = [(c*pi)*cos(pi*xi+c*pi*tj) for xi in x, tj in t]\n",
    "p1 = surface(t,x,uanal, xlabel=\"t\", ylabel=\"x\", title=\"position\")\n",
    "p2 = contour(t,x,uanal, xlabel=\"t\", ylabel=\"x\", title=\"position\")\n",
    "p3 = surface(t,x,vanal, xlabel=\"t\", ylabel=\"x\", title=\"velocity\")\n",
    "p4 = contour(t,x,vanal, xlabel=\"t\", ylabel=\"x\", title=\"velocity\")\n",
    "plot(p1,p2,p3,p4, layout = (2,2) )"
   ]
  },
  {
   "cell_type": "markdown",
   "id": "50912103",
   "metadata": {},
   "source": [
    "Plot same information differently "
   ]
  },
  {
   "cell_type": "code",
   "execution_count": null,
   "id": "bf444170",
   "metadata": {},
   "outputs": [],
   "source": [
    "p1 = plot(t,uanal[1,:],xlabel=\"t\", label=\"pos. left bnd node\")\n",
    "p2 = plot(t,uanal[div(N,2),:],xlabel=\"t\", label=\"pos. mid node\")\n",
    "p3 = plot(t,uanal[end,:],xlabel=\"t\", label=\"pos.  right bnd node\")\n",
    "plot(p1,p2,p3,layout=(1,3))"
   ]
  },
  {
   "cell_type": "markdown",
   "id": "a4b531e0",
   "metadata": {},
   "source": [
    "## Section 3: Discretization in space ($x$)\n",
    "\n",
    "Observe that we here choose to work with a matrix $A$ in which the boundary nodes have been eliminated. The matrix is thus of size $N-1$-by-$N-1$.  "
   ]
  },
  {
   "cell_type": "code",
   "execution_count": null,
   "id": "0c50567e",
   "metadata": {},
   "outputs": [],
   "source": [
    "function build_matrix(N)\n",
    "    h = 1/N # mesh width\n",
    "    f = zeros(N-1) # right-hand side vector \n",
    "    e = ones(N-1) # diagonal vector \n",
    "    A = Tridiagonal(e[1:end-1], -2*e, e[1:end-1]) # for th interior nodes\n",
    "    A = 1/(h*h)*A \n",
    "    return A,f \n",
    "end "
   ]
  },
  {
   "cell_type": "code",
   "execution_count": null,
   "id": "478b55f0",
   "metadata": {},
   "outputs": [],
   "source": [
    "A,f = build_matrix(N);"
   ]
  },
  {
   "cell_type": "code",
   "execution_count": null,
   "id": "b16ca18c",
   "metadata": {},
   "outputs": [],
   "source": [
    "#display(A)"
   ]
  },
  {
   "cell_type": "code",
   "execution_count": null,
   "id": "e615a037",
   "metadata": {},
   "outputs": [],
   "source": [
    "#display(f)"
   ]
  },
  {
   "cell_type": "markdown",
   "id": "b8650c7c",
   "metadata": {},
   "source": [
    "## Section 4: Discretization in time ($t$)\n",
    "\n",
    "### Define the Right-Hand Side Function  "
   ]
  },
  {
   "cell_type": "code",
   "execution_count": null,
   "id": "e0388e3d",
   "metadata": {},
   "outputs": [],
   "source": [
    "function wave_system!(ddu,du,u,p,t)\n",
    "    f[1]   = (-1/h2)*sin(-pi*c*t)   # left boundary node contribution \n",
    "    f[end] = (-1/h2)*sin(pi-c*pi*t) # right boundary node contribution\n",
    "    ddu .= c^2*A*u .+ c^2*f         # internal nodes \n",
    "end"
   ]
  },
  {
   "cell_type": "markdown",
   "id": "0f013a03",
   "metadata": {},
   "source": [
    "### Solve the ODE problem "
   ]
  },
  {
   "cell_type": "code",
   "execution_count": null,
   "id": "d1809f9a",
   "metadata": {},
   "outputs": [],
   "source": [
    "# set initial position in internal nodes\n",
    "u0 = [ sin(pi*xi) for xi in x[2:end-1]] \n",
    "\n",
    "# set initial velocity in internal nodes\n",
    "v0 = [ (pi*c)*cos(pi*xi) for xi in x[2:end-1]]\n",
    "\n",
    "# set time interval with start time andf end time \n",
    "tspan = (0.0, Tend)    \n",
    "\n",
    "# set problem definition\n",
    "prob = SecondOrderODEProblem(wave_system!,v0,u0,tspan)  \n",
    "\n",
    "# solve problem \n",
    "sol = solve(prob,AutoVern7(Rodas5()), reltol = 1e-8, abstol = 1e-8); "
   ]
  },
  {
   "cell_type": "markdown",
   "id": "6d10d62c",
   "metadata": {},
   "source": [
    "### Plot the Computed Solution  "
   ]
  },
  {
   "cell_type": "markdown",
   "id": "38d1ea06",
   "metadata": {},
   "source": [
    "Plot the initial conditions (intended here as verification). "
   ]
  },
  {
   "cell_type": "code",
   "execution_count": null,
   "id": "6a66cf50",
   "metadata": {},
   "outputs": [],
   "source": [
    "p1 = plot(x[2:end-1], u0, xlabel=\"x\", label=\"initial position\")\n",
    "p2 = plot(x[2:end-1], v0, xlabel=\"x\", label=\"initial velocity\")\n",
    "plot(p1,p2,layout=(1,2))"
   ]
  },
  {
   "cell_type": "code",
   "execution_count": null,
   "id": "c8490b8b",
   "metadata": {},
   "outputs": [],
   "source": [
    "velind = 1:N-1; posind = N:2*N-2; \n",
    "Nt = length(sol.t)\n",
    "V  = sol[velind,:]\n",
    "p1 = contour(V)\n",
    "U  = sol[posind,:]\n",
    "p2 = contour(U)\n",
    "plot(p1, p2, layout= (1,2))"
   ]
  },
  {
   "cell_type": "markdown",
   "id": "3d929325",
   "metadata": {},
   "source": [
    "## Section 5: Exercises \n",
    "1. investigate difference between analytical and numerical solution as spatial mesh width ($h$) and time step ($dt$) are reduced;\n",
    "1. introduce other analutical reference solutions (possibly consult literature); \n",
    "1. introduce external forcing by adding a term in the line that defines ddu in the function wave_system!(); \n",
    "1. introduce damping by adding again a term in the line that defines ddu in the function wave_system!();\n",
    "1. introduce bar with inhomogeneous material distribution;\n",
    "1. introduce a so-called implicit-explicit (IMEX) scheme to perform time integration;  "
   ]
  },
  {
   "cell_type": "code",
   "execution_count": null,
   "id": "a95c72ed",
   "metadata": {},
   "outputs": [],
   "source": []
  }
 ],
 "metadata": {
  "kernelspec": {
   "display_name": "Julia 1.8.1",
   "language": "julia",
   "name": "julia-1.8"
  },
  "language_info": {
   "file_extension": ".jl",
   "mimetype": "application/julia",
   "name": "julia",
   "version": "1.8.1"
  }
 },
 "nbformat": 4,
 "nbformat_minor": 5
}
